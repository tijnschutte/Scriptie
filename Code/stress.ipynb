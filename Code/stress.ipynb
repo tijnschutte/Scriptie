{
 "cells": [
  {
   "cell_type": "code",
   "execution_count": 2,
   "metadata": {},
   "outputs": [],
   "source": [
    "from pylab import rcParams\n",
    "import pandas as pd\n",
    "from utilsforecast.plotting import plot_series\n",
    "import numpy as np\n",
    "import matplotlib.pyplot as plt\n",
    "plt.style.use('fivethirtyeight')\n",
    "plt.rcParams['lines.linewidth'] = 1.5\n",
    "dark_style = {\n",
    "    'figure.facecolor': '#212946',\n",
    "    'axes.facecolor': '#212946',\n",
    "    'savefig.facecolor': '#212946',\n",
    "\n",
    "    'axes.grid': True,\n",
    "    'axes.grid.which': 'both',\n",
    "    'axes.spines.left': False,\n",
    "    'axes.spines.right': False,\n",
    "\n",
    "    'axes.spines.top': False,\n",
    "    'axes.spines.bottom': False,\n",
    "    'grid.linewidth': '1',\n",
    "    'grid.color': '#2A3459',\n",
    "    'text.color': '0.9',\n",
    "    'axes.labelcolor': '0.9',\n",
    "    'xtick.color': '0.9',\n",
    "    'ytick.color': '0.9',\n",
    "    'font.size': 12}\n",
    "plt.rcParams.update(dark_style)\n",
    "\n",
    "\n",
    "rcParams['figure.figsize'] = (8, 4)"
   ]
  },
  {
   "cell_type": "code",
   "execution_count": null,
   "metadata": {},
   "outputs": [],
   "source": [
    "df = pd.read_excel('../Data/IDA & DA Ierland 2023.xlsx')\n",
    "da = pd.DataFrame({\n",
    "    'ds': df['Datetime'],\n",
    "    'unique_id': 1,\n",
    "    'y': df['IE DA EUR']\n",
    "})\n",
    "ida1 = pd.DataFrame({\n",
    "    'ds': df['Datetime'],\n",
    "    'unique_id': 1,\n",
    "    'y': df['IE IDA1 EUR price']\n",
    "})\n",
    "ida2 = pd.DataFrame({\n",
    "    'ds': df['Datetime'],\n",
    "    'unique_id': 1,\n",
    "    'y': df['IE IDA2 EUR price']\n",
    "})"
   ]
  },
  {
   "cell_type": "code",
   "execution_count": 104,
   "metadata": {},
   "outputs": [],
   "source": [
    "ida1_crossval = pd.read_excel('../Data/Crossvalidation/cross_val_30_days_ida1.xlsx')"
   ]
  }
 ],
 "metadata": {
  "kernelspec": {
   "display_name": "scriptie",
   "language": "python",
   "name": "python3"
  },
  "language_info": {
   "codemirror_mode": {
    "name": "ipython",
    "version": 3
   },
   "file_extension": ".py",
   "mimetype": "text/x-python",
   "name": "python",
   "nbconvert_exporter": "python",
   "pygments_lexer": "ipython3",
   "version": "3.11.9"
  }
 },
 "nbformat": 4,
 "nbformat_minor": 2
}
