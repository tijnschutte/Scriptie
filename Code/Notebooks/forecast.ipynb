{
 "cells": [
  {
   "cell_type": "code",
   "execution_count": 500,
   "metadata": {},
   "outputs": [],
   "source": [
    "from pylab import rcParams\n",
    "import pandas as pd\n",
    "from utilsforecast.plotting import plot_series\n",
    "import numpy as np\n",
    "import matplotlib.pyplot as plt\n",
    "import datetime as dt\n",
    "plt.style.use('fivethirtyeight')\n",
    "plt.rcParams['lines.linewidth'] = 1.5\n",
    "dark_style = {\n",
    "    'figure.facecolor': '#212946',\n",
    "    'axes.facecolor': '#212946',\n",
    "    'savefig.facecolor': '#212946',\n",
    "\n",
    "    'axes.grid': True,\n",
    "    'axes.grid.which': 'both',\n",
    "    'axes.spines.left': False,\n",
    "    'axes.spines.right': False,\n",
    "\n",
    "    'axes.spines.top': False,\n",
    "    'axes.spines.bottom': False,\n",
    "    'grid.linewidth': '1',\n",
    "    'grid.color': '#2A3459',\n",
    "    'text.color': '0.9',\n",
    "    'axes.labelcolor': '0.9',\n",
    "    'xtick.color': '0.9',\n",
    "    'ytick.color': '0.9',\n",
    "    'font.size': 12}\n",
    "plt.rcParams.update(dark_style)\n",
    "\n",
    "\n",
    "rcParams['figure.figsize'] = (8, 4)"
   ]
  },
  {
   "cell_type": "code",
   "execution_count": 491,
   "metadata": {},
   "outputs": [],
   "source": [
    "df = pd.read_excel('../../Data/market_data.xlsx')\n",
    "da = pd.DataFrame({\n",
    "    'ds': df['Date'],\n",
    "    'unique_id': 1,\n",
    "    'y': df['IE DA EUR']\n",
    "})\n",
    "ida1 = pd.DataFrame({\n",
    "    'ds': df['Date'],\n",
    "    'unique_id': 1,\n",
    "    'y': df['IE IDA1 EUR price']\n",
    "})\n",
    "ida2 = pd.DataFrame({\n",
    "    'ds': df['Date'],\n",
    "    'unique_id': 1,\n",
    "    'y': df['IE IDA2 EUR price']\n",
    "})"
   ]
  },
  {
   "cell_type": "code",
   "execution_count": 486,
   "metadata": {},
   "outputs": [
    {
     "data": {
      "image/png": "[encoded data removed]",
      "text/plain": [
       "<Figure size 400x200 with 2 Axes>"
      ]
     },
     "metadata": {},
     "output_type": "display_data"
    }
   ],
   "source": [
    "import seaborn as sns\n",
    "import matplotlib.pyplot as plt\n",
    "correlation_matrix = df.rename({\n",
    "    'IE DA EUR': 'y_da',\n",
    "    'IE IDA1 EUR price': 'y_ida1',\n",
    "    'IE IDA2 EUR price': 'y_ida2'\n",
    "}, axis=1).filter(like='y').corr()\n",
    "plt.figure(figsize=(4, 2))\n",
    "sns.heatmap(correlation_matrix, annot=True, cmap='coolwarm')\n",
    "plt.show()"
   ]
  },
  {
   "cell_type": "code",
   "execution_count": 503,
   "metadata": {},
   "outputs": [],
   "source": [
    "da = da.resample('30min', on='ds').mean().interpolate().reset_index()\n",
    "da['ds'] = da['ds'].dt.floor('s')\n",
    "\n",
    "ida1 = ida1.resample('30min', on='ds').mean().interpolate().reset_index()\n",
    "ida1['ds'] = ida1['ds'].dt.floor('s')\n",
    "\n",
    "ida2.dropna(inplace=True)\n",
    "ida2.reset_index(drop=True, inplace=True)\n",
    "ida2['ds'] = ida2['ds'].dt.floor('s')"
   ]
  },
  {
   "cell_type": "code",
   "execution_count": 504,
   "metadata": {},
   "outputs": [],
   "source": [
    "train_ida1, test_ida1 = ida1[ida1['ds'].dt.year <\n",
    "                             2023], ida1[ida1['ds'].dt.year == 2023]\n",
    "train_ida2, test_ida2 = ida2[ida2['ds'].dt.year <\n",
    "                             2023], ida2[ida2['ds'].dt.year == 2023]\n",
    "train_da, test_da = da[da['ds'].dt.year < 2023], da[da['ds'].dt.year == 2023]"
   ]
  },
  {
   "cell_type": "markdown",
   "metadata": {},
   "source": [
    "## MSTL\n"
   ]
  },
  {
   "cell_type": "code",
   "execution_count": 307,
   "metadata": {},
   "outputs": [],
   "source": [
    "from statsforecast import StatsForecast\n",
    "from statsforecast.models import MSTL, AutoARIMA\n",
    "\n",
    "\n",
    "def create_MSTL(seasons):\n",
    "    models = [\n",
    "        MSTL(season_length=seasons,\n",
    "             trend_forecaster=AutoARIMA(seasonal=True)\n",
    "             )\n",
    "    ]\n",
    "\n",
    "    sf = StatsForecast(\n",
    "        models=models,\n",
    "        freq='30min',\n",
    "    )\n",
    "\n",
    "    return sf"
   ]
  },
  {
   "cell_type": "code",
   "execution_count": null,
   "metadata": {},
   "outputs": [],
   "source": [
    "from statsforecast.models import AutoARIMA, ARIMA\n",
    "from statsforecast.arima import arima_string\n",
    "\n",
    "def create_ARIMA():\n",
    "    models = [\n",
    "        AutoARIMA(season_length=48, seasonal=True),\n",
    "    ]\n",
    "\n",
    "    sf = StatsForecast(\n",
    "        models=models,\n",
    "        freq='30min',\n",
    "    )\n",
    "\n",
    "    return sf\n",
    "\n",
    "arima = create_ARIMA()\n",
    "arima.fit(train_da)"
   ]
  },
  {
   "cell_type": "code",
   "execution_count": 530,
   "metadata": {},
   "outputs": [
    {
     "data": {
      "text/plain": [
       "'ARIMA(2,1,2)                   '"
      ]
     },
     "execution_count": 530,
     "metadata": {},
     "output_type": "execute_result"
    }
   ],
   "source": [
    "arima_string(arima.fitted_[0,0].model_)"
   ]
  },
  {
   "cell_type": "code",
   "execution_count": 531,
   "metadata": {},
   "outputs": [
    {
     "name": "stderr",
     "output_type": "stream",
     "text": [
      "/Users/tijnschutte/opt/anaconda3/envs/scriptie/lib/python3.11/site-packages/statsforecast/core.py:467: FutureWarning: The `df` argument of the StatsForecast constructor as well as reusing stored dfs from other methods is deprecated and will raise an error in a future version. Please provide the `df` argument to the corresponding method instead, e.g. fit/forecast.\n",
      "  warnings.warn(\n",
      "/Users/tijnschutte/opt/anaconda3/envs/scriptie/lib/python3.11/site-packages/statsforecast/core.py:485: FutureWarning: In a future version the predictions will have the id as a column. You can set the `NIXTLA_ID_AS_COL` environment variable to adopt the new behavior and to suppress this warning.\n",
      "  warnings.warn(\n"
     ]
    }
   ],
   "source": [
    "forecast_arima = arima.forecast(h=48)\n",
    "forecast_arima_merged = forecast_arima.merge(test_da[['ds','y']], on='ds')"
   ]
  },
  {
   "cell_type": "code",
   "execution_count": 532,
   "metadata": {},
   "outputs": [
    {
     "data": {
      "text/plain": [
       "<Axes: xlabel='ds'>"
      ]
     },
     "execution_count": 532,
     "metadata": {},
     "output_type": "execute_result"
    },
    {
     "data": {
      "image/png": "[encoded data removed]",
      "text/plain": [
       "<Figure size 800x400 with 1 Axes>"
      ]
     },
     "metadata": {},
     "output_type": "display_data"
    }
   ],
   "source": [
    "forecast_arima_merged.plot('ds')"
   ]
  },
  {
   "cell_type": "code",
   "execution_count": null,
   "metadata": {},
   "outputs": [],
   "source": [
    "train_ida2_exo = train_ida2.merge(\n",
    "    train_da[['y', 'ds']], on='ds', suffixes=('', '_da'))"
   ]
  },
  {
   "cell_type": "code",
   "execution_count": null,
   "metadata": {},
   "outputs": [
    {
     "name": "stdout",
     "output_type": "stream",
     "text": [
      "24\n"
     ]
    },
    {
     "ename": "ValueError",
     "evalue": "xreg is rank deficient",
     "output_type": "error",
     "traceback": [
      "\u001b[0;31m---------------------------------------------------------------------------\u001b[0m",
      "\u001b[0;31mValueError\u001b[0m                                Traceback (most recent call last)",
      "Cell \u001b[0;32mIn[345], line 5\u001b[0m\n\u001b[1;32m      3\u001b[0m \u001b[38;5;28mprint\u001b[39m(tp)\n\u001b[1;32m      4\u001b[0m model \u001b[38;5;241m=\u001b[39m create_MSTL([tp, tp\u001b[38;5;241m*\u001b[39m\u001b[38;5;241m2\u001b[39m])\n\u001b[0;32m----> 5\u001b[0m cross_val \u001b[38;5;241m=\u001b[39m \u001b[43mmodel\u001b[49m\u001b[38;5;241;43m.\u001b[39;49m\u001b[43mcross_validation\u001b[49m\u001b[43m(\u001b[49m\u001b[43mdf\u001b[49m\u001b[38;5;241;43m=\u001b[39;49m\u001b[43mtrain_df\u001b[49m\u001b[43m,\u001b[49m\n\u001b[1;32m      6\u001b[0m \u001b[43m                                   \u001b[49m\u001b[43mh\u001b[49m\u001b[38;5;241;43m=\u001b[39;49m\u001b[43mtp\u001b[49m\u001b[43m,\u001b[49m\n\u001b[1;32m      7\u001b[0m \u001b[43m                                   \u001b[49m\u001b[43mstep_size\u001b[49m\u001b[38;5;241;43m=\u001b[39;49m\u001b[43mtp\u001b[49m\u001b[43m,\u001b[49m\n\u001b[1;32m      8\u001b[0m \u001b[43m                                   \u001b[49m\u001b[43mn_windows\u001b[49m\u001b[38;5;241;43m=\u001b[39;49m\u001b[38;5;241;43m30\u001b[39;49m\u001b[43m)\u001b[49m\n",
      "File \u001b[0;32m~/opt/anaconda3/envs/scriptie/lib/python3.11/site-packages/statsforecast/core.py:1677\u001b[0m, in \u001b[0;36mStatsForecast.cross_validation\u001b[0;34m(self, h, df, n_windows, step_size, test_size, input_size, level, fitted, refit, sort_df, prediction_intervals, id_col, time_col, target_col)\u001b[0m\n\u001b[1;32m   1659\u001b[0m \u001b[38;5;28;01mdef\u001b[39;00m \u001b[38;5;21mcross_validation\u001b[39m(\n\u001b[1;32m   1660\u001b[0m     \u001b[38;5;28mself\u001b[39m,\n\u001b[1;32m   1661\u001b[0m     h: \u001b[38;5;28mint\u001b[39m,\n\u001b[0;32m   (...)\u001b[0m\n\u001b[1;32m   1674\u001b[0m     target_col: \u001b[38;5;28mstr\u001b[39m \u001b[38;5;241m=\u001b[39m \u001b[38;5;124m\"\u001b[39m\u001b[38;5;124my\u001b[39m\u001b[38;5;124m\"\u001b[39m,\n\u001b[1;32m   1675\u001b[0m ):\n\u001b[1;32m   1676\u001b[0m     \u001b[38;5;28;01mif\u001b[39;00m \u001b[38;5;28mself\u001b[39m\u001b[38;5;241m.\u001b[39m_is_native(df\u001b[38;5;241m=\u001b[39mdf):\n\u001b[0;32m-> 1677\u001b[0m         \u001b[38;5;28;01mreturn\u001b[39;00m \u001b[38;5;28;43msuper\u001b[39;49m\u001b[43m(\u001b[49m\u001b[43m)\u001b[49m\u001b[38;5;241;43m.\u001b[39;49m\u001b[43mcross_validation\u001b[49m\u001b[43m(\u001b[49m\n\u001b[1;32m   1678\u001b[0m \u001b[43m            \u001b[49m\u001b[43mh\u001b[49m\u001b[38;5;241;43m=\u001b[39;49m\u001b[43mh\u001b[49m\u001b[43m,\u001b[49m\n\u001b[1;32m   1679\u001b[0m \u001b[43m            \u001b[49m\u001b[43mdf\u001b[49m\u001b[38;5;241;43m=\u001b[39;49m\u001b[43mdf\u001b[49m\u001b[43m,\u001b[49m\n\u001b[1;32m   1680\u001b[0m \u001b[43m            \u001b[49m\u001b[43mn_windows\u001b[49m\u001b[38;5;241;43m=\u001b[39;49m\u001b[43mn_windows\u001b[49m\u001b[43m,\u001b[49m\n\u001b[1;32m   1681\u001b[0m \u001b[43m            \u001b[49m\u001b[43mstep_size\u001b[49m\u001b[38;5;241;43m=\u001b[39;49m\u001b[43mstep_size\u001b[49m\u001b[43m,\u001b[49m\n\u001b[1;32m   1682\u001b[0m \u001b[43m            \u001b[49m\u001b[43mtest_size\u001b[49m\u001b[38;5;241;43m=\u001b[39;49m\u001b[43mtest_size\u001b[49m\u001b[43m,\u001b[49m\n\u001b[1;32m   1683\u001b[0m \u001b[43m            \u001b[49m\u001b[43minput_size\u001b[49m\u001b[38;5;241;43m=\u001b[39;49m\u001b[43minput_size\u001b[49m\u001b[43m,\u001b[49m\n\u001b[1;32m   1684\u001b[0m \u001b[43m            \u001b[49m\u001b[43mlevel\u001b[49m\u001b[38;5;241;43m=\u001b[39;49m\u001b[43mlevel\u001b[49m\u001b[43m,\u001b[49m\n\u001b[1;32m   1685\u001b[0m \u001b[43m            \u001b[49m\u001b[43mfitted\u001b[49m\u001b[38;5;241;43m=\u001b[39;49m\u001b[43mfitted\u001b[49m\u001b[43m,\u001b[49m\n\u001b[1;32m   1686\u001b[0m \u001b[43m            \u001b[49m\u001b[43mrefit\u001b[49m\u001b[38;5;241;43m=\u001b[39;49m\u001b[43mrefit\u001b[49m\u001b[43m,\u001b[49m\n\u001b[1;32m   1687\u001b[0m \u001b[43m            \u001b[49m\u001b[43msort_df\u001b[49m\u001b[38;5;241;43m=\u001b[39;49m\u001b[43msort_df\u001b[49m\u001b[43m,\u001b[49m\n\u001b[1;32m   1688\u001b[0m \u001b[43m            \u001b[49m\u001b[43mprediction_intervals\u001b[49m\u001b[38;5;241;43m=\u001b[39;49m\u001b[43mprediction_intervals\u001b[49m\u001b[43m,\u001b[49m\n\u001b[1;32m   1689\u001b[0m \u001b[43m            \u001b[49m\u001b[43mid_col\u001b[49m\u001b[38;5;241;43m=\u001b[39;49m\u001b[43mid_col\u001b[49m\u001b[43m,\u001b[49m\n\u001b[1;32m   1690\u001b[0m \u001b[43m            \u001b[49m\u001b[43mtime_col\u001b[49m\u001b[38;5;241;43m=\u001b[39;49m\u001b[43mtime_col\u001b[49m\u001b[43m,\u001b[49m\n\u001b[1;32m   1691\u001b[0m \u001b[43m            \u001b[49m\u001b[43mtarget_col\u001b[49m\u001b[38;5;241;43m=\u001b[39;49m\u001b[43mtarget_col\u001b[49m\u001b[43m,\u001b[49m\n\u001b[1;32m   1692\u001b[0m \u001b[43m        \u001b[49m\u001b[43m)\u001b[49m\n\u001b[1;32m   1693\u001b[0m     \u001b[38;5;28;01massert\u001b[39;00m df \u001b[38;5;129;01mis\u001b[39;00m \u001b[38;5;129;01mnot\u001b[39;00m \u001b[38;5;28;01mNone\u001b[39;00m\n\u001b[1;32m   1694\u001b[0m     engine \u001b[38;5;241m=\u001b[39m make_execution_engine(infer_by\u001b[38;5;241m=\u001b[39m[df])\n",
      "File \u001b[0;32m~/opt/anaconda3/envs/scriptie/lib/python3.11/site-packages/statsforecast/core.py:1079\u001b[0m, in \u001b[0;36m_StatsForecast.cross_validation\u001b[0;34m(self, h, df, n_windows, step_size, test_size, input_size, level, fitted, refit, sort_df, prediction_intervals, id_col, time_col, target_col)\u001b[0m\n\u001b[1;32m   1077\u001b[0m _, level \u001b[38;5;241m=\u001b[39m \u001b[38;5;28mself\u001b[39m\u001b[38;5;241m.\u001b[39m_parse_X_level(h\u001b[38;5;241m=\u001b[39mh, X\u001b[38;5;241m=\u001b[39m\u001b[38;5;28;01mNone\u001b[39;00m, level\u001b[38;5;241m=\u001b[39mlevel)\n\u001b[1;32m   1078\u001b[0m \u001b[38;5;28;01mif\u001b[39;00m \u001b[38;5;28mself\u001b[39m\u001b[38;5;241m.\u001b[39mn_jobs \u001b[38;5;241m==\u001b[39m \u001b[38;5;241m1\u001b[39m:\n\u001b[0;32m-> 1079\u001b[0m     res_fcsts \u001b[38;5;241m=\u001b[39m \u001b[38;5;28;43mself\u001b[39;49m\u001b[38;5;241;43m.\u001b[39;49m\u001b[43mga\u001b[49m\u001b[38;5;241;43m.\u001b[39;49m\u001b[43mcross_validation\u001b[49m\u001b[43m(\u001b[49m\n\u001b[1;32m   1080\u001b[0m \u001b[43m        \u001b[49m\u001b[43mmodels\u001b[49m\u001b[38;5;241;43m=\u001b[39;49m\u001b[38;5;28;43mself\u001b[39;49m\u001b[38;5;241;43m.\u001b[39;49m\u001b[43mmodels\u001b[49m\u001b[43m,\u001b[49m\n\u001b[1;32m   1081\u001b[0m \u001b[43m        \u001b[49m\u001b[43mh\u001b[49m\u001b[38;5;241;43m=\u001b[39;49m\u001b[43mh\u001b[49m\u001b[43m,\u001b[49m\n\u001b[1;32m   1082\u001b[0m \u001b[43m        \u001b[49m\u001b[43mtest_size\u001b[49m\u001b[38;5;241;43m=\u001b[39;49m\u001b[43mtest_size\u001b[49m\u001b[43m,\u001b[49m\n\u001b[1;32m   1083\u001b[0m \u001b[43m        \u001b[49m\u001b[43mfallback_model\u001b[49m\u001b[38;5;241;43m=\u001b[39;49m\u001b[38;5;28;43mself\u001b[39;49m\u001b[38;5;241;43m.\u001b[39;49m\u001b[43mfallback_model\u001b[49m\u001b[43m,\u001b[49m\n\u001b[1;32m   1084\u001b[0m \u001b[43m        \u001b[49m\u001b[43mstep_size\u001b[49m\u001b[38;5;241;43m=\u001b[39;49m\u001b[43mstep_size\u001b[49m\u001b[43m,\u001b[49m\n\u001b[1;32m   1085\u001b[0m \u001b[43m        \u001b[49m\u001b[43minput_size\u001b[49m\u001b[38;5;241;43m=\u001b[39;49m\u001b[43minput_size\u001b[49m\u001b[43m,\u001b[49m\n\u001b[1;32m   1086\u001b[0m \u001b[43m        \u001b[49m\u001b[43mfitted\u001b[49m\u001b[38;5;241;43m=\u001b[39;49m\u001b[43mfitted\u001b[49m\u001b[43m,\u001b[49m\n\u001b[1;32m   1087\u001b[0m \u001b[43m        \u001b[49m\u001b[43mlevel\u001b[49m\u001b[38;5;241;43m=\u001b[39;49m\u001b[43mlevel\u001b[49m\u001b[43m,\u001b[49m\n\u001b[1;32m   1088\u001b[0m \u001b[43m        \u001b[49m\u001b[43mverbose\u001b[49m\u001b[38;5;241;43m=\u001b[39;49m\u001b[38;5;28;43mself\u001b[39;49m\u001b[38;5;241;43m.\u001b[39;49m\u001b[43mverbose\u001b[49m\u001b[43m,\u001b[49m\n\u001b[1;32m   1089\u001b[0m \u001b[43m        \u001b[49m\u001b[43mrefit\u001b[49m\u001b[38;5;241;43m=\u001b[39;49m\u001b[43mrefit\u001b[49m\u001b[43m,\u001b[49m\n\u001b[1;32m   1090\u001b[0m \u001b[43m        \u001b[49m\u001b[43mtarget_col\u001b[49m\u001b[38;5;241;43m=\u001b[39;49m\u001b[43mtarget_col\u001b[49m\u001b[43m,\u001b[49m\n\u001b[1;32m   1091\u001b[0m \u001b[43m    \u001b[49m\u001b[43m)\u001b[49m\n\u001b[1;32m   1092\u001b[0m \u001b[38;5;28;01melse\u001b[39;00m:\n\u001b[1;32m   1093\u001b[0m     res_fcsts \u001b[38;5;241m=\u001b[39m \u001b[38;5;28mself\u001b[39m\u001b[38;5;241m.\u001b[39m_cross_validation_parallel(\n\u001b[1;32m   1094\u001b[0m         h\u001b[38;5;241m=\u001b[39mh,\n\u001b[1;32m   1095\u001b[0m         test_size\u001b[38;5;241m=\u001b[39mtest_size,\n\u001b[0;32m   (...)\u001b[0m\n\u001b[1;32m   1101\u001b[0m         target_col\u001b[38;5;241m=\u001b[39mtarget_col,\n\u001b[1;32m   1102\u001b[0m     )\n",
      "File \u001b[0;32m~/opt/anaconda3/envs/scriptie/lib/python3.11/site-packages/statsforecast/core.py:326\u001b[0m, in \u001b[0;36mGroupedArray.cross_validation\u001b[0;34m(self, models, h, test_size, fallback_model, step_size, input_size, fitted, level, refit, verbose, target_col)\u001b[0m\n\u001b[1;32m    324\u001b[0m     \u001b[38;5;28;01mexcept\u001b[39;00m \u001b[38;5;167;01mException\u001b[39;00m \u001b[38;5;28;01mas\u001b[39;00m error:\n\u001b[1;32m    325\u001b[0m         \u001b[38;5;28;01mif\u001b[39;00m fallback_model \u001b[38;5;129;01mis\u001b[39;00m \u001b[38;5;28;01mNone\u001b[39;00m:\n\u001b[0;32m--> 326\u001b[0m             \u001b[38;5;28;01mraise\u001b[39;00m error\n\u001b[1;32m    327\u001b[0m         res_i \u001b[38;5;241m=\u001b[39m fallback_model\u001b[38;5;241m.\u001b[39mforecast(\u001b[38;5;241m*\u001b[39m\u001b[38;5;241m*\u001b[39mforecast_kwargs)\n\u001b[1;32m    328\u001b[0m \u001b[38;5;28;01melse\u001b[39;00m:\n",
      "File \u001b[0;32m~/opt/anaconda3/envs/scriptie/lib/python3.11/site-packages/statsforecast/core.py:323\u001b[0m, in \u001b[0;36mGroupedArray.cross_validation\u001b[0;34m(self, models, h, test_size, fallback_model, step_size, input_size, fitted, level, refit, verbose, target_col)\u001b[0m\n\u001b[1;32m    314\u001b[0m forecast_kwargs \u001b[38;5;241m=\u001b[39m \u001b[38;5;28mdict\u001b[39m(\n\u001b[1;32m    315\u001b[0m     h\u001b[38;5;241m=\u001b[39mh,\n\u001b[1;32m    316\u001b[0m     y\u001b[38;5;241m=\u001b[39my_train,\n\u001b[0;32m   (...)\u001b[0m\n\u001b[1;32m    320\u001b[0m     \u001b[38;5;241m*\u001b[39m\u001b[38;5;241m*\u001b[39mkwargs,\n\u001b[1;32m    321\u001b[0m )\n\u001b[1;32m    322\u001b[0m \u001b[38;5;28;01mtry\u001b[39;00m:\n\u001b[0;32m--> 323\u001b[0m     res_i \u001b[38;5;241m=\u001b[39m \u001b[43mmodel\u001b[49m\u001b[38;5;241;43m.\u001b[39;49m\u001b[43mforecast\u001b[49m\u001b[43m(\u001b[49m\u001b[38;5;241;43m*\u001b[39;49m\u001b[38;5;241;43m*\u001b[39;49m\u001b[43mforecast_kwargs\u001b[49m\u001b[43m)\u001b[49m\n\u001b[1;32m    324\u001b[0m \u001b[38;5;28;01mexcept\u001b[39;00m \u001b[38;5;167;01mException\u001b[39;00m \u001b[38;5;28;01mas\u001b[39;00m error:\n\u001b[1;32m    325\u001b[0m     \u001b[38;5;28;01mif\u001b[39;00m fallback_model \u001b[38;5;129;01mis\u001b[39;00m \u001b[38;5;28;01mNone\u001b[39;00m:\n",
      "File \u001b[0;32m~/opt/anaconda3/envs/scriptie/lib/python3.11/site-packages/statsforecast/models.py:5180\u001b[0m, in \u001b[0;36mMSTL.forecast\u001b[0;34m(self, y, h, X, X_future, level, fitted)\u001b[0m\n\u001b[1;32m   5178\u001b[0m \u001b[38;5;28;01mif\u001b[39;00m fitted \u001b[38;5;129;01mor\u001b[39;00m \u001b[38;5;28mself\u001b[39m\u001b[38;5;241m.\u001b[39mtrend_forecaster\u001b[38;5;241m.\u001b[39mprediction_intervals \u001b[38;5;129;01mis\u001b[39;00m \u001b[38;5;28;01mNone\u001b[39;00m:\n\u001b[1;32m   5179\u001b[0m     kwargs[\u001b[38;5;124m\"\u001b[39m\u001b[38;5;124mlevel\u001b[39m\u001b[38;5;124m\"\u001b[39m] \u001b[38;5;241m=\u001b[39m level\n\u001b[0;32m-> 5180\u001b[0m res \u001b[38;5;241m=\u001b[39m \u001b[38;5;28;43mself\u001b[39;49m\u001b[38;5;241;43m.\u001b[39;49m\u001b[43mtrend_forecaster\u001b[49m\u001b[38;5;241;43m.\u001b[39;49m\u001b[43mforecast\u001b[49m\u001b[43m(\u001b[49m\u001b[38;5;241;43m*\u001b[39;49m\u001b[38;5;241;43m*\u001b[39;49m\u001b[43mkwargs\u001b[49m\u001b[43m)\u001b[49m\n\u001b[1;32m   5181\u001b[0m \u001b[38;5;28;01mif\u001b[39;00m level \u001b[38;5;129;01mis\u001b[39;00m \u001b[38;5;129;01mnot\u001b[39;00m \u001b[38;5;28;01mNone\u001b[39;00m:\n\u001b[1;32m   5182\u001b[0m     level \u001b[38;5;241m=\u001b[39m \u001b[38;5;28msorted\u001b[39m(level)\n",
      "File \u001b[0;32m~/opt/anaconda3/envs/scriptie/lib/python3.11/site-packages/statsforecast/models.py:489\u001b[0m, in \u001b[0;36mAutoARIMA.forecast\u001b[0;34m(self, y, h, X, X_future, level, fitted)\u001b[0m\n\u001b[1;32m    462\u001b[0m \u001b[38;5;250m\u001b[39m\u001b[38;5;124;03m\"\"\"Memory Efficient AutoARIMA predictions.\u001b[39;00m\n\u001b[1;32m    463\u001b[0m \n\u001b[1;32m    464\u001b[0m \u001b[38;5;124;03mThis method avoids memory burden due from object storage.\u001b[39;00m\n\u001b[0;32m   (...)\u001b[0m\n\u001b[1;32m    486\u001b[0m \u001b[38;5;124;03m    Dictionary with entries `mean` for point predictions and `level_*` for probabilistic predictions.\u001b[39;00m\n\u001b[1;32m    487\u001b[0m \u001b[38;5;124;03m\"\"\"\u001b[39;00m\n\u001b[1;32m    488\u001b[0m \u001b[38;5;28;01mwith\u001b[39;00m np\u001b[38;5;241m.\u001b[39merrstate(invalid\u001b[38;5;241m=\u001b[39m\u001b[38;5;124m\"\u001b[39m\u001b[38;5;124mignore\u001b[39m\u001b[38;5;124m\"\u001b[39m):\n\u001b[0;32m--> 489\u001b[0m     mod \u001b[38;5;241m=\u001b[39m \u001b[43mauto_arima_f\u001b[49m\u001b[43m(\u001b[49m\n\u001b[1;32m    490\u001b[0m \u001b[43m        \u001b[49m\u001b[43mx\u001b[49m\u001b[38;5;241;43m=\u001b[39;49m\u001b[43my\u001b[49m\u001b[43m,\u001b[49m\n\u001b[1;32m    491\u001b[0m \u001b[43m        \u001b[49m\u001b[43md\u001b[49m\u001b[38;5;241;43m=\u001b[39;49m\u001b[38;5;28;43mself\u001b[39;49m\u001b[38;5;241;43m.\u001b[39;49m\u001b[43md\u001b[49m\u001b[43m,\u001b[49m\n\u001b[1;32m    492\u001b[0m \u001b[43m        \u001b[49m\u001b[43mD\u001b[49m\u001b[38;5;241;43m=\u001b[39;49m\u001b[38;5;28;43mself\u001b[39;49m\u001b[38;5;241;43m.\u001b[39;49m\u001b[43mD\u001b[49m\u001b[43m,\u001b[49m\n\u001b[1;32m    493\u001b[0m \u001b[43m        \u001b[49m\u001b[43mmax_p\u001b[49m\u001b[38;5;241;43m=\u001b[39;49m\u001b[38;5;28;43mself\u001b[39;49m\u001b[38;5;241;43m.\u001b[39;49m\u001b[43mmax_p\u001b[49m\u001b[43m,\u001b[49m\n\u001b[1;32m    494\u001b[0m \u001b[43m        \u001b[49m\u001b[43mmax_q\u001b[49m\u001b[38;5;241;43m=\u001b[39;49m\u001b[38;5;28;43mself\u001b[39;49m\u001b[38;5;241;43m.\u001b[39;49m\u001b[43mmax_q\u001b[49m\u001b[43m,\u001b[49m\n\u001b[1;32m    495\u001b[0m \u001b[43m        \u001b[49m\u001b[43mmax_P\u001b[49m\u001b[38;5;241;43m=\u001b[39;49m\u001b[38;5;28;43mself\u001b[39;49m\u001b[38;5;241;43m.\u001b[39;49m\u001b[43mmax_P\u001b[49m\u001b[43m,\u001b[49m\n\u001b[1;32m    496\u001b[0m \u001b[43m        \u001b[49m\u001b[43mmax_Q\u001b[49m\u001b[38;5;241;43m=\u001b[39;49m\u001b[38;5;28;43mself\u001b[39;49m\u001b[38;5;241;43m.\u001b[39;49m\u001b[43mmax_Q\u001b[49m\u001b[43m,\u001b[49m\n\u001b[1;32m    497\u001b[0m \u001b[43m        \u001b[49m\u001b[43mmax_order\u001b[49m\u001b[38;5;241;43m=\u001b[39;49m\u001b[38;5;28;43mself\u001b[39;49m\u001b[38;5;241;43m.\u001b[39;49m\u001b[43mmax_order\u001b[49m\u001b[43m,\u001b[49m\n\u001b[1;32m    498\u001b[0m \u001b[43m        \u001b[49m\u001b[43mmax_d\u001b[49m\u001b[38;5;241;43m=\u001b[39;49m\u001b[38;5;28;43mself\u001b[39;49m\u001b[38;5;241;43m.\u001b[39;49m\u001b[43mmax_d\u001b[49m\u001b[43m,\u001b[49m\n\u001b[1;32m    499\u001b[0m \u001b[43m        \u001b[49m\u001b[43mmax_D\u001b[49m\u001b[38;5;241;43m=\u001b[39;49m\u001b[38;5;28;43mself\u001b[39;49m\u001b[38;5;241;43m.\u001b[39;49m\u001b[43mmax_D\u001b[49m\u001b[43m,\u001b[49m\n\u001b[1;32m    500\u001b[0m \u001b[43m        \u001b[49m\u001b[43mstart_p\u001b[49m\u001b[38;5;241;43m=\u001b[39;49m\u001b[38;5;28;43mself\u001b[39;49m\u001b[38;5;241;43m.\u001b[39;49m\u001b[43mstart_p\u001b[49m\u001b[43m,\u001b[49m\n\u001b[1;32m    501\u001b[0m \u001b[43m        \u001b[49m\u001b[43mstart_q\u001b[49m\u001b[38;5;241;43m=\u001b[39;49m\u001b[38;5;28;43mself\u001b[39;49m\u001b[38;5;241;43m.\u001b[39;49m\u001b[43mstart_q\u001b[49m\u001b[43m,\u001b[49m\n\u001b[1;32m    502\u001b[0m \u001b[43m        \u001b[49m\u001b[43mstart_P\u001b[49m\u001b[38;5;241;43m=\u001b[39;49m\u001b[38;5;28;43mself\u001b[39;49m\u001b[38;5;241;43m.\u001b[39;49m\u001b[43mstart_P\u001b[49m\u001b[43m,\u001b[49m\n\u001b[1;32m    503\u001b[0m \u001b[43m        \u001b[49m\u001b[43mstart_Q\u001b[49m\u001b[38;5;241;43m=\u001b[39;49m\u001b[38;5;28;43mself\u001b[39;49m\u001b[38;5;241;43m.\u001b[39;49m\u001b[43mstart_Q\u001b[49m\u001b[43m,\u001b[49m\n\u001b[1;32m    504\u001b[0m \u001b[43m        \u001b[49m\u001b[43mstationary\u001b[49m\u001b[38;5;241;43m=\u001b[39;49m\u001b[38;5;28;43mself\u001b[39;49m\u001b[38;5;241;43m.\u001b[39;49m\u001b[43mstationary\u001b[49m\u001b[43m,\u001b[49m\n\u001b[1;32m    505\u001b[0m \u001b[43m        \u001b[49m\u001b[43mseasonal\u001b[49m\u001b[38;5;241;43m=\u001b[39;49m\u001b[38;5;28;43mself\u001b[39;49m\u001b[38;5;241;43m.\u001b[39;49m\u001b[43mseasonal\u001b[49m\u001b[43m,\u001b[49m\n\u001b[1;32m    506\u001b[0m \u001b[43m        \u001b[49m\u001b[43mic\u001b[49m\u001b[38;5;241;43m=\u001b[39;49m\u001b[38;5;28;43mself\u001b[39;49m\u001b[38;5;241;43m.\u001b[39;49m\u001b[43mic\u001b[49m\u001b[43m,\u001b[49m\n\u001b[1;32m    507\u001b[0m \u001b[43m        \u001b[49m\u001b[43mstepwise\u001b[49m\u001b[38;5;241;43m=\u001b[39;49m\u001b[38;5;28;43mself\u001b[39;49m\u001b[38;5;241;43m.\u001b[39;49m\u001b[43mstepwise\u001b[49m\u001b[43m,\u001b[49m\n\u001b[1;32m    508\u001b[0m \u001b[43m        \u001b[49m\u001b[43mnmodels\u001b[49m\u001b[38;5;241;43m=\u001b[39;49m\u001b[38;5;28;43mself\u001b[39;49m\u001b[38;5;241;43m.\u001b[39;49m\u001b[43mnmodels\u001b[49m\u001b[43m,\u001b[49m\n\u001b[1;32m    509\u001b[0m \u001b[43m        \u001b[49m\u001b[43mtrace\u001b[49m\u001b[38;5;241;43m=\u001b[39;49m\u001b[38;5;28;43mself\u001b[39;49m\u001b[38;5;241;43m.\u001b[39;49m\u001b[43mtrace\u001b[49m\u001b[43m,\u001b[49m\n\u001b[1;32m    510\u001b[0m \u001b[43m        \u001b[49m\u001b[43mapproximation\u001b[49m\u001b[38;5;241;43m=\u001b[39;49m\u001b[38;5;28;43mself\u001b[39;49m\u001b[38;5;241;43m.\u001b[39;49m\u001b[43mapproximation\u001b[49m\u001b[43m,\u001b[49m\n\u001b[1;32m    511\u001b[0m \u001b[43m        \u001b[49m\u001b[43mmethod\u001b[49m\u001b[38;5;241;43m=\u001b[39;49m\u001b[38;5;28;43mself\u001b[39;49m\u001b[38;5;241;43m.\u001b[39;49m\u001b[43mmethod\u001b[49m\u001b[43m,\u001b[49m\n\u001b[1;32m    512\u001b[0m \u001b[43m        \u001b[49m\u001b[43mtruncate\u001b[49m\u001b[38;5;241;43m=\u001b[39;49m\u001b[38;5;28;43mself\u001b[39;49m\u001b[38;5;241;43m.\u001b[39;49m\u001b[43mtruncate\u001b[49m\u001b[43m,\u001b[49m\n\u001b[1;32m    513\u001b[0m \u001b[43m        \u001b[49m\u001b[43mxreg\u001b[49m\u001b[38;5;241;43m=\u001b[39;49m\u001b[43mX\u001b[49m\u001b[43m,\u001b[49m\n\u001b[1;32m    514\u001b[0m \u001b[43m        \u001b[49m\u001b[43mtest\u001b[49m\u001b[38;5;241;43m=\u001b[39;49m\u001b[38;5;28;43mself\u001b[39;49m\u001b[38;5;241;43m.\u001b[39;49m\u001b[43mtest\u001b[49m\u001b[43m,\u001b[49m\n\u001b[1;32m    515\u001b[0m \u001b[43m        \u001b[49m\u001b[43mtest_kwargs\u001b[49m\u001b[38;5;241;43m=\u001b[39;49m\u001b[38;5;28;43mself\u001b[39;49m\u001b[38;5;241;43m.\u001b[39;49m\u001b[43mtest_kwargs\u001b[49m\u001b[43m,\u001b[49m\n\u001b[1;32m    516\u001b[0m \u001b[43m        \u001b[49m\u001b[43mseasonal_test\u001b[49m\u001b[38;5;241;43m=\u001b[39;49m\u001b[38;5;28;43mself\u001b[39;49m\u001b[38;5;241;43m.\u001b[39;49m\u001b[43mseasonal_test\u001b[49m\u001b[43m,\u001b[49m\n\u001b[1;32m    517\u001b[0m \u001b[43m        \u001b[49m\u001b[43mseasonal_test_kwargs\u001b[49m\u001b[38;5;241;43m=\u001b[39;49m\u001b[38;5;28;43mself\u001b[39;49m\u001b[38;5;241;43m.\u001b[39;49m\u001b[43mseasonal_test_kwargs\u001b[49m\u001b[43m,\u001b[49m\n\u001b[1;32m    518\u001b[0m \u001b[43m        \u001b[49m\u001b[43mallowdrift\u001b[49m\u001b[38;5;241;43m=\u001b[39;49m\u001b[38;5;28;43mself\u001b[39;49m\u001b[38;5;241;43m.\u001b[39;49m\u001b[43mallowdrift\u001b[49m\u001b[43m,\u001b[49m\n\u001b[1;32m    519\u001b[0m \u001b[43m        \u001b[49m\u001b[43mallowmean\u001b[49m\u001b[38;5;241;43m=\u001b[39;49m\u001b[38;5;28;43mself\u001b[39;49m\u001b[38;5;241;43m.\u001b[39;49m\u001b[43mallowmean\u001b[49m\u001b[43m,\u001b[49m\n\u001b[1;32m    520\u001b[0m \u001b[43m        \u001b[49m\u001b[43mblambda\u001b[49m\u001b[38;5;241;43m=\u001b[39;49m\u001b[38;5;28;43mself\u001b[39;49m\u001b[38;5;241;43m.\u001b[39;49m\u001b[43mblambda\u001b[49m\u001b[43m,\u001b[49m\n\u001b[1;32m    521\u001b[0m \u001b[43m        \u001b[49m\u001b[43mbiasadj\u001b[49m\u001b[38;5;241;43m=\u001b[39;49m\u001b[38;5;28;43mself\u001b[39;49m\u001b[38;5;241;43m.\u001b[39;49m\u001b[43mbiasadj\u001b[49m\u001b[43m,\u001b[49m\n\u001b[1;32m    522\u001b[0m \u001b[43m        \u001b[49m\u001b[43mperiod\u001b[49m\u001b[38;5;241;43m=\u001b[39;49m\u001b[38;5;28;43mself\u001b[39;49m\u001b[38;5;241;43m.\u001b[39;49m\u001b[43mseason_length\u001b[49m\u001b[43m,\u001b[49m\n\u001b[1;32m    523\u001b[0m \u001b[43m    \u001b[49m\u001b[43m)\u001b[49m\n\u001b[1;32m    524\u001b[0m fcst \u001b[38;5;241m=\u001b[39m forecast_arima(mod, h, xreg\u001b[38;5;241m=\u001b[39mX_future, level\u001b[38;5;241m=\u001b[39mlevel)\n\u001b[1;32m    525\u001b[0m res \u001b[38;5;241m=\u001b[39m {\u001b[38;5;124m\"\u001b[39m\u001b[38;5;124mmean\u001b[39m\u001b[38;5;124m\"\u001b[39m: fcst[\u001b[38;5;124m\"\u001b[39m\u001b[38;5;124mmean\u001b[39m\u001b[38;5;124m\"\u001b[39m]}\n",
      "File \u001b[0;32m~/opt/anaconda3/envs/scriptie/lib/python3.11/site-packages/statsforecast/arima.py:1915\u001b[0m, in \u001b[0;36mauto_arima_f\u001b[0;34m(x, d, D, max_p, max_q, max_P, max_Q, max_order, max_d, max_D, start_p, start_q, start_P, start_Q, stationary, seasonal, ic, stepwise, nmodels, trace, approximation, method, truncate, xreg, test, test_kwargs, seasonal_test, seasonal_test_kwargs, allowdrift, allowmean, blambda, biasadj, period)\u001b[0m\n\u001b[1;32m   1913\u001b[0m _, sv, _ \u001b[38;5;241m=\u001b[39m np\u001b[38;5;241m.\u001b[39mlinalg\u001b[38;5;241m.\u001b[39msvd(X)\n\u001b[1;32m   1914\u001b[0m \u001b[38;5;28;01mif\u001b[39;00m sv\u001b[38;5;241m.\u001b[39mmin() \u001b[38;5;241m/\u001b[39m sv\u001b[38;5;241m.\u001b[39msum() \u001b[38;5;241m<\u001b[39m np\u001b[38;5;241m.\u001b[39mfinfo(np\u001b[38;5;241m.\u001b[39mfloat64)\u001b[38;5;241m.\u001b[39meps:\n\u001b[0;32m-> 1915\u001b[0m     \u001b[38;5;28;01mraise\u001b[39;00m \u001b[38;5;167;01mValueError\u001b[39;00m(\u001b[38;5;124m\"\u001b[39m\u001b[38;5;124mxreg is rank deficient\u001b[39m\u001b[38;5;124m\"\u001b[39m)\n\u001b[1;32m   1916\u001b[0m j \u001b[38;5;241m=\u001b[39m (\u001b[38;5;241m~\u001b[39mnp\u001b[38;5;241m.\u001b[39misnan(x)) \u001b[38;5;241m&\u001b[39m (\u001b[38;5;241m~\u001b[39mnp\u001b[38;5;241m.\u001b[39misnan(np\u001b[38;5;241m.\u001b[39mnansum(xregg, \u001b[38;5;241m1\u001b[39m)))\n\u001b[1;32m   1917\u001b[0m xx[j] \u001b[38;5;241m=\u001b[39m sm\u001b[38;5;241m.\u001b[39mOLS(x, sm\u001b[38;5;241m.\u001b[39madd_constant(xregg))\u001b[38;5;241m.\u001b[39mfit()\u001b[38;5;241m.\u001b[39mresid\n",
      "\u001b[0;31mValueError\u001b[0m: xreg is rank deficient"
     ]
    }
   ],
   "source": [
    "train_df = train_ida2_exo.copy()\n",
    "tp = train_df.groupby(train_df['ds'].dt.date).size().unique()[0]\n",
    "\n",
    "model = create_MSTL([tp, tp*2])\n",
    "cross_val = model.cross_validation(df=train_df,\n",
    "                                   h=tp,\n",
    "                                   step_size=tp,\n",
    "                                   n_windows=30)"
   ]
  },
  {
   "cell_type": "code",
   "execution_count": null,
   "metadata": {},
   "outputs": [],
   "source": [
    "cross_val['error'] = cross_val['y'] - cross_val['MSTL']"
   ]
  },
  {
   "cell_type": "code",
   "execution_count": 321,
   "metadata": {},
   "outputs": [
    {
     "data": {
      "text/plain": [
       "<Axes: xlabel='ds'>"
      ]
     },
     "execution_count": 321,
     "metadata": {},
     "output_type": "execute_result"
    },
    {
     "data": {
      "image/png": "[encoded data removed]",
      "text/plain": [
       "<Figure size 800x400 with 1 Axes>"
      ]
     },
     "metadata": {},
     "output_type": "display_data"
    }
   ],
   "source": [
    "cross_val.groupby(cross_val['ds'].dt.time).mean().plot(y='error')"
   ]
  },
  {
   "cell_type": "code",
   "execution_count": 322,
   "metadata": {},
   "outputs": [],
   "source": [
    "cross_val.to_excel('../../Data/Crossvalidation/cross_val_ida2.xlsx')"
   ]
  },
  {
   "cell_type": "code",
   "execution_count": 160,
   "metadata": {},
   "outputs": [
    {
     "name": "stdout",
     "output_type": "stream",
     "text": [
      "Days with incorrect number of timesteps:\n",
      "2024-08-31    46\n",
      "dtype: int64\n"
     ]
    }
   ],
   "source": [
    "# Extract the date part from the datetime column\n",
    "# test['ds'] = test['ds'].dt.date\n",
    "\n",
    "# Group by date and count the number of timesteps for each day\n",
    "timestep_counts = temp.groupby(temp.index.date).size()\n",
    "\n",
    "# Check for days with a count different from 48\n",
    "incorrect_timestep_days = timestep_counts[timestep_counts != 48]\n",
    "\n",
    "# Display the result\n",
    "print(\"Days with incorrect number of timesteps:\")\n",
    "print(incorrect_timestep_days)"
   ]
  },
  {
   "cell_type": "code",
   "execution_count": null,
   "metadata": {},
   "outputs": [],
   "source": [
    "da_model = create_MSTL([48, 2*48, 5*48, 6*48])\n",
    "da_prediction = da_model.forecast(df=train_da, h=48)\n",
    "da_prediction = da_prediction.merge(test_da.head(48), on='ds')"
   ]
  },
  {
   "cell_type": "code",
   "execution_count": null,
   "metadata": {},
   "outputs": [],
   "source": [
    "da_prediction.plot('ds', ['y', 'MSTL'])\n",
    "mae = abs(da_prediction['y']-da_prediction['MSTL']).mean()\n",
    "# da_prediction.to_excel('../Data/DA_forecast.xlsx')\n",
    "print('MAE:', str(round(mae, 2)))"
   ]
  },
  {
   "cell_type": "code",
   "execution_count": null,
   "metadata": {},
   "outputs": [],
   "source": [
    "from statsforecast import StatsForecast\n",
    "from statsforecast.models import MSTL, AutoARIMA\n",
    "\n",
    "half_hourly = 1\n",
    "hourly = half_hourly*2\n",
    "daily = hourly*24\n",
    "weekly = daily*7\n",
    "monthly = daily*30\n",
    "\n",
    "\n",
    "def give_me_mstl(seasons=[]):\n",
    "    models = [\n",
    "        MSTL(\n",
    "            season_length=seasons,\n",
    "            trend_forecaster=AutoARIMA(\n",
    "                seasonal=True)\n",
    "        )\n",
    "    ]\n",
    "\n",
    "    return StatsForecast(\n",
    "        models=models,\n",
    "        freq='30min',\n",
    "    )"
   ]
  },
  {
   "cell_type": "code",
   "execution_count": null,
   "metadata": {},
   "outputs": [],
   "source": []
  },
  {
   "cell_type": "code",
   "execution_count": null,
   "metadata": {},
   "outputs": [],
   "source": [
    "from statsmodels.tsa.seasonal import seasonal_decompose\n",
    "days = 10\n",
    "decomposition = seasonal_decompose(\n",
    "    train_ida2['y'].dropna().head(48*days), model='additive', period=48)\n",
    "fig, axes = plt.subplots(4, 1, sharex=True)\n",
    "train_ida2['y'].dropna().head(48*days).plot(ax=axes[0])\n",
    "decomposition.trend.plot(ax=axes[1])\n",
    "decomposition.seasonal.plot(ax=axes[2])\n",
    "decomposition.resid.plot(ax=axes[3])"
   ]
  },
  {
   "cell_type": "code",
   "execution_count": null,
   "metadata": {},
   "outputs": [],
   "source": [
    "trading_length = 48\n",
    "da_mstl = give_me_mstl(\n",
    "    seasons=[trading_length, 2*trading_length, 7*trading_length])\n",
    "da_prediction = da_mstl.forecast(df=train_da, h=trading_length)\n",
    "da_prediction = da_prediction.merge(test_da.head(trading_length), on='ds')"
   ]
  },
  {
   "cell_type": "code",
   "execution_count": null,
   "metadata": {},
   "outputs": [],
   "source": [
    "da_prediction.plot('ds', ['y', 'MSTL'])\n",
    "mae = abs(da_prediction['y']-da_prediction['MSTL']).mean()\n",
    "print('MAE:', str(round(mae, 2)))"
   ]
  },
  {
   "cell_type": "code",
   "execution_count": null,
   "metadata": {},
   "outputs": [],
   "source": [
    "tp = 48\n",
    "ida1_mstl = give_me_mstl(seasons=[tp, tp*2, tp*4, tp*6, tp*8])\n",
    "ida1_prediction = ida1_mstl.forecast(df=train_ida1, h=tp)\n",
    "ida1_prediction = ida1_prediction.merge(test_ida1.head(tp), on='ds')\n",
    "ida1_prediction.plot('ds', ['y', 'MSTL'])\n",
    "mae = abs(ida1_prediction['y']-ida1_prediction['MSTL']).mean()\n",
    "print('MAE:', str(round(mae, 2)))"
   ]
  },
  {
   "cell_type": "code",
   "execution_count": null,
   "metadata": {},
   "outputs": [],
   "source": [
    "tp_id2 = 24\n",
    "test_ida2_copy = test_ida2.dropna().head(tp_id2)\n",
    "ida2_mstl = give_me_mstl(\n",
    "    seasons=[tp_id2, tp_id2*2, tp_id2*3, tp_id2*4, tp_id2*5, tp_id2*6])\n",
    "ida2_prediction = ida2_mstl.forecast(df=train_ida2.dropna(), h=tp_id2)\n",
    "ida2_prediction['ds'] = test_ida2_copy['ds'].values\n",
    "ida2_prediction = ida2_prediction.merge(test_ida2_copy, on='ds')\n",
    "print(\"MAE:\", abs(ida2_prediction['y']-ida2_prediction['MSTL']).mean())\n",
    "ida2_prediction.plot('ds', ['y', 'MSTL'])"
   ]
  },
  {
   "cell_type": "code",
   "execution_count": null,
   "metadata": {},
   "outputs": [],
   "source": [
    "train_exo = train_ida1.merge(train_da, on='ds', suffixes=(\n",
    "    '', '_da')).drop(columns='unique_id_da')\n",
    "test_exo = test_ida1.merge(test_da, on='ds', suffixes=(\n",
    "    '', '_da')).drop(columns='unique_id_da')"
   ]
  },
  {
   "cell_type": "code",
   "execution_count": null,
   "metadata": {},
   "outputs": [],
   "source": [
    "date = '2023-12-09'\n",
    "weird = pd.read_excel(f'../Data/Forecasts/DA/{date}_exo[].xlsx')\n",
    "date_mask = test_da['ds'].dt.date == weird['ds'].dt.date.values[0]\n",
    "real = test_da.loc[date_mask]\n",
    "# print(real)\n",
    "plt.plot(real['ds'], real['y'], label='True')\n",
    "plt.plot(weird['ds'], weird['MSTL'], label='DA')"
   ]
  },
  {
   "cell_type": "markdown",
   "metadata": {},
   "source": [
    "### PAST ERRORS\n"
   ]
  },
  {
   "cell_type": "code",
   "execution_count": null,
   "metadata": {},
   "outputs": [],
   "source": [
    "# crossvalidation_df = sf.cross_validation(df=train_da,\n",
    "#                                          h=48,\n",
    "#                                          step_size=48,\n",
    "#                                          n_windows=30)"
   ]
  },
  {
   "cell_type": "code",
   "execution_count": null,
   "metadata": {},
   "outputs": [],
   "source": [
    "# crossvalidation_df['error'] = crossvalidation_df['y'] - \\\n",
    "#     crossvalidation_df['MSTL']\n",
    "# crossvalidation_df.to_excel('../Data/cross_val_30_days_da.xlsx')\n",
    "crossvalidation_df = pd.read_excel(\n",
    "    '../Data/Crossvalidation/cross_val_30_days_ida1.xlsx')\n",
    "crossvalidation_df.head()"
   ]
  },
  {
   "cell_type": "code",
   "execution_count": null,
   "metadata": {},
   "outputs": [],
   "source": [
    "error_distr = crossvalidation_df.groupby(\n",
    "    [crossvalidation_df['ds'].dt.hour, crossvalidation_df['ds'].dt.minute])['error'].describe()"
   ]
  },
  {
   "cell_type": "code",
   "execution_count": null,
   "metadata": {},
   "outputs": [],
   "source": [
    "# TODO peak variance to determine scenario shifts\n",
    "peaks_y = crossvalidation_df.groupby(crossvalidation_df['ds'].dt.day)[\n",
    "    'y'].apply(list).apply(lambda row: np.argmax(row))\n",
    "peaks_mstl = crossvalidation_df.groupby(crossvalidation_df['ds'].dt.day)[\n",
    "    'MSTL'].apply(list).apply(lambda row: np.argmax(row))\n",
    "peaks_errors = peaks_y - peaks_mstl\n",
    "peaks_errors.mean()"
   ]
  },
  {
   "cell_type": "code",
   "execution_count": null,
   "metadata": {},
   "outputs": [],
   "source": [
    "error_distr.head(2)"
   ]
  },
  {
   "cell_type": "code",
   "execution_count": null,
   "metadata": {},
   "outputs": [],
   "source": [
    "def generate_scenarios(predictions):\n",
    "    errors_high = error_distr.apply(lambda row: np.percentile(np.random.normal(\n",
    "        row['mean'], row['std'], 10000), 90), axis=1)\n",
    "    errors_middle = error_distr.apply(lambda row: np.percentile(np.random.normal(\n",
    "        row['mean'], row['std'], 10000), 50), axis=1)\n",
    "    errors_low = error_distr.apply(lambda row: np.percentile(np.random.normal(\n",
    "        row['mean'], row['std'], 10000), 10), axis=1)\n",
    "\n",
    "    scenarios = np.vstack(\n",
    "        [errors_high, errors_middle, errors_low]) + predictions\n",
    "    scenarios_df = pd.DataFrame(scenarios).T\n",
    "    scenarios_df.columns = ['high', 'middle', 'low']\n",
    "    return scenarios_df"
   ]
  },
  {
   "cell_type": "code",
   "execution_count": null,
   "metadata": {},
   "outputs": [],
   "source": [
    "scenarios = crossvalidation_df.groupby(crossvalidation_df['ds'].dt.day)[\n",
    "    'MSTL'].apply(list).apply(lambda row: generate_scenarios(row))"
   ]
  },
  {
   "cell_type": "code",
   "execution_count": null,
   "metadata": {},
   "outputs": [],
   "source": [
    "scenarios = pd.concat(scenarios.values)"
   ]
  },
  {
   "cell_type": "code",
   "execution_count": null,
   "metadata": {},
   "outputs": [],
   "source": [
    "window = 6*48\n",
    "plt.plot(crossvalidation_df['ds'].tail(window), scenarios.tail(window))\n",
    "plt.plot(crossvalidation_df['ds'].tail(window),\n",
    "         crossvalidation_df['y'].tail(window), label='True')\n",
    "plt.plot(crossvalidation_df['ds'].tail(\n",
    "    window), crossvalidation_df['MSTL'].tail(window), label='MSTL')\n",
    "plt.legend()"
   ]
  },
  {
   "cell_type": "code",
   "execution_count": null,
   "metadata": {},
   "outputs": [],
   "source": []
  },
  {
   "cell_type": "code",
   "execution_count": null,
   "metadata": {},
   "outputs": [],
   "source": [
    "# crossvalidation_ida2 = pd.read_excel('../Data/Crossvalidation/cross_val_30_days_ida2.xlsx')"
   ]
  },
  {
   "cell_type": "code",
   "execution_count": null,
   "metadata": {},
   "outputs": [],
   "source": [
    "# num_simulations = 20\n",
    "# mean_error, std_error = stats.norm.fit(crossvalidation_df['error'])\n",
    "\n",
    "high = 90\n",
    "med = 50\n",
    "low = 10\n",
    "\n",
    "error_distr_per_halfhour = crossvalidation_df.groupby(\n",
    "    [crossvalidation_df['ds'].dt.hour, crossvalidation_df['ds'].dt.minute])['error'].describe()\n",
    "\n",
    "high_error = error_distr_per_halfhour.apply(lambda row: np.percentile(np.random.normal(\n",
    "    row['mean'], row['std'], 10000), high), axis=1).values\n",
    "medium_error = error_distr_per_halfhour.apply(lambda row: np.percentile(np.random.normal(\n",
    "    row['mean'], row['std'], 10000), med), axis=1).values\n",
    "low_error = error_distr_per_halfhour.apply(lambda row: np.percentile(np.random.normal(\n",
    "    row['mean'], row['std'], 10000), low), axis=1).values\n",
    "\n",
    "high_noise = np.full((1, 48), high_error)\n",
    "med_noise = np.full((1, 48), medium_error)\n",
    "low_noise = np.full((1, 48), low_error)\n",
    "\n",
    "# Combine scenarios\n",
    "simulated_scenarios = np.vstack([\n",
    "    high_noise, med_noise, low_noise,\n",
    "]) + prediction_exo['MSTL'].values\n",
    "\n",
    "# Create shifted versions of the scenarios\n",
    "shifted_scenarios = []\n",
    "for i in range(len(simulated_scenarios)):\n",
    "    shifted_scenarios.append(np.roll(simulated_scenarios[i], shift=-10))\n",
    "\n",
    "simulated_scenarios = np.vstack([simulated_scenarios, *shifted_scenarios])\n",
    "scenarios = pd.DataFrame(simulated_scenarios).T\n",
    "\n",
    "\n",
    "def rolling(list):\n",
    "    return list.rolling(3).mean().fillna(method='bfill')\n",
    "\n",
    "\n",
    "# scenarios = scenarios.apply(rolling, axis=0)\n",
    "\n",
    "scenarios.columns = [f\"S_{i}\" for i in range(len(scenarios.columns))]\n",
    "scenarios['y'] = prediction_exo['y'].values\n",
    "scenarios['MSTL'] = prediction_exo['MSTL'].values\n",
    "# scenarios.to_excel('../Data/scenarios.xlsx', index=False)\n",
    "\n",
    "plt.plot(scenarios)\n",
    "plt.plot(prediction_exo['y'], label='True')\n",
    "plt.xlabel('Half-Hour Step')\n",
    "plt.ylabel('Price')\n",
    "plt.title('Simulated Price Scenarios')\n",
    "plt.show()"
   ]
  },
  {
   "cell_type": "markdown",
   "metadata": {},
   "source": [
    "#### Error distribution per half hour\n"
   ]
  },
  {
   "cell_type": "code",
   "execution_count": null,
   "metadata": {},
   "outputs": [],
   "source": [
    "from scipy.stats import norm\n",
    "\n",
    "errors_grouped = crossvalidation_df.groupby(\n",
    "    [crossvalidation_df['ds'].dt.hour, crossvalidation_df['ds'].dt.minute])['error'].apply(list)\n",
    "\n",
    "for errors in errors_grouped:\n",
    "    mean, std = norm.fit(errors)\n",
    "    x = np.linspace(min(errors), max(errors), 100)\n",
    "    pdf = norm.pdf(x, mean, std)\n",
    "    plt.plot(x, pdf)"
   ]
  },
  {
   "cell_type": "markdown",
   "metadata": {},
   "source": [
    "#### Split errors into segments, for each segment create a scenario (with weight)\n",
    "\n",
    "##### Doesn't allow for shifting, because then what would be the weight of that scenario?\n"
   ]
  },
  {
   "cell_type": "code",
   "execution_count": null,
   "metadata": {},
   "outputs": [],
   "source": [
    "# SPINNING WHEEL method (TODO)\n",
    "\n",
    "error_segments = [\n",
    "    (-3*std, -std),  # Large negative error\n",
    "    (-std, 0),       # Small negative error\n",
    "    (0, std),        # Zero error\n",
    "    (std, 3*std)     # Small positive error, Large positive error can be combined\n",
    "]\n",
    "\n",
    "# Calculate weights based on historical error frequencies\n",
    "weights = []\n",
    "for segment in error_segments:\n",
    "    lower, upper = segment\n",
    "    error_counts = errors_grouped.apply(lambda errors: sum(\n",
    "        [lower <= error <= upper for error in errors]))\n",
    "    weight = error_counts.sum() / len(errors_grouped.sum())\n",
    "    weights.append(weight)\n",
    "\n",
    "print(weights)"
   ]
  },
  {
   "cell_type": "code",
   "execution_count": null,
   "metadata": {},
   "outputs": [],
   "source": [
    "simulated_scenarios = []\n",
    "    for segment in error_segments:\n",
    "        lower, upper = segment\n",
    "        med = 50\n",
    "        medium_error = np.percentile(np.random.uniform(\n",
    "            lower, upper, 10000), med)\n",
    "        med_noise = np.full((1, 48), medium_error)\n",
    "        scenarios = med_noise + ida1_prediction['MSTL'].values\n",
    "        simulated_scenarios.append(scenarios)\n",
    "\n",
    "simulated_scenarios = np.vstack(simulated_scenarios)\n",
    "scenarios = pd.DataFrame(simulated_scenarios).T\n",
    "scenarios['y'] = ida1_prediction['y'].values\n",
    "\n",
    "plt.plot(scenarios)\n",
    "plt.plot(ida1_prediction['y'], label='True')\n",
    "plt.legend()"
   ]
  },
  {
   "cell_type": "code",
   "execution_count": null,
   "metadata": {},
   "outputs": [],
   "source": [
    "# Generate scenarios for each error segment\n",
    "scenarios = []\n",
    "for _ in range(4):\n",
    "    for lower, upper in error_segments:\n",
    "        segment_errors = np.random.uniform(\n",
    "            lower, upper, len(ida1_prediction['MSTL']))\n",
    "        scenario = ida1_prediction['MSTL'] + segment_errors\n",
    "        scenarios.append(scenario)\n",
    "\n",
    "# Convert scenarios to DataFrame\n",
    "scenarios_df = pd.DataFrame(scenarios).T\n",
    "scenarios_df.columns = [f'Scenario_{i}' for i in range(len(scenarios))]\n",
    "scenarios_df['ds'] = ida1_prediction['ds']\n",
    "scenarios_df['y'] = ida1_prediction['y']\n",
    "\n",
    "# Plot the scenarios\n",
    "for col in scenarios_df.columns[:-2]:\n",
    "    plt.plot(scenarios_df['ds'], scenarios_df[col], label=col)\n",
    "plt.plot(scenarios_df['ds'], scenarios_df['y'],\n",
    "         label='True', color='black', linewidth=2)\n",
    "plt.xlabel('Datetime')\n",
    "plt.ylabel('Price')\n",
    "plt.title('Price Scenarios for Each Error Segment')\n",
    "plt.show()\n",
    "print(weights)"
   ]
  },
  {
   "cell_type": "markdown",
   "metadata": {},
   "source": [
    "## CI using price distribution\n"
   ]
  },
  {
   "cell_type": "code",
   "execution_count": null,
   "metadata": {},
   "outputs": [],
   "source": []
  },
  {
   "cell_type": "code",
   "execution_count": null,
   "metadata": {},
   "outputs": [],
   "source": [
    "prediction1 = prediction_exo.copy()"
   ]
  },
  {
   "cell_type": "code",
   "execution_count": null,
   "metadata": {},
   "outputs": [],
   "source": [
    "high, middle, low = 0.9, 0.5, 0.1\n",
    "train_distr = train_ida1.groupby([train_ida1['ds'].dt.dayofweek, train_ida1['ds'].dt.hour, train_ida1['ds'].dt.minute])[\n",
    "    'y'].describe(percentiles=[low, middle, high])\n",
    "train_distr.head(4)"
   ]
  },
  {
   "cell_type": "code",
   "execution_count": null,
   "metadata": {
    "vscode": {
     "languageId": "ruby"
    }
   },
   "outputs": [],
   "source": [
    "# BEGIN: Add confidence interval to cross_val based on historical price distribution\n",
    "confidence_level = 0.95\n",
    "z_score = 1.96\n",
    "\n",
    "# Calculate the mean and standard deviation of the historical MSTL values\n",
    "historical_mean = train_distr['mean']\n",
    "historical_std = train_distr['std']\n",
    "\n",
    "# Map the historical mean and std to the cross_val DataFrame\n",
    "prediction1['historical_mean'] = prediction1['ds'].apply(lambda x: historical_mean.loc[(x.dayofweek, x.hour, x.minute)])\n",
    "prediction1['historical_std'] = prediction1['ds'].apply(lambda x: historical_std.loc[(x.dayofweek, x.hour, x.minute)])\n",
    "\n",
    "# Calculate the confidence intervals\n",
    "prediction1['ci_lower'] = prediction1['MSTL'] - z_score * prediction1['historical_std'] / np.sqrt(len(prediction1))\n",
    "prediction1['ci_upper'] = prediction1['MSTL'] + z_score * prediction1['historical_std'] / np.sqrt(len(prediction1))\n",
    "\n",
    "prediction1[['ds', 'y', 'MSTL', 'ci_lower', 'ci_upper']].head(5)"
   ]
  },
  {
   "cell_type": "code",
   "execution_count": null,
   "metadata": {
    "vscode": {
     "languageId": "ruby"
    }
   },
   "outputs": [],
   "source": [
    "prediction1[['ds', 'y', 'ci_lower', 'ci_upper']].plot(x='ds', figsize=(10, 6), title='MSTL with 95% confidence interval')\n",
    "coverage = ((prediction1['y'] >= prediction1['ci_lower']) & (prediction1['y'] <= prediction1['ci_upper'])).mean()\n",
    "print(f'Coverage: {coverage:.2f}')"
   ]
  },
  {
   "cell_type": "markdown",
   "metadata": {},
   "source": [
    "## CI - Multi Step Forecasting\n"
   ]
  },
  {
   "cell_type": "code",
   "execution_count": null,
   "metadata": {
    "vscode": {
     "languageId": "ruby"
    }
   },
   "outputs": [],
   "source": [
    "ida1_prediction_copy = ida1_prediction.copy()"
   ]
  },
  {
   "cell_type": "code",
   "execution_count": null,
   "metadata": {},
   "outputs": [],
   "source": [
    "from statsmodels.graphics.tsaplots import plot_acf\n",
    "import matplotlib.pyplot as plt\n",
    "\n",
    "plot_acf(train_ida1['y'], lags=200)\n",
    "plt.title('Autocorrelation Function (ACF) of Errors')\n",
    "plt.show()"
   ]
  },
  {
   "cell_type": "code",
   "execution_count": null,
   "metadata": {},
   "outputs": [],
   "source": [
    "def create_ci_95(forecast, train):\n",
    "    forecast = forecast.copy()\n",
    "    z_score = 1.96\n",
    "    rolling_window = 50  # Adjust the window size as needed\n",
    "    se = train['y'].rolling(window=rolling_window).std(\n",
    "    ).iloc[-1] / np.sqrt(len(forecast))\n",
    "    forecast['h'] = forecast.groupby(\n",
    "        forecast['ds'].dt.date).cumcount() + 1 + 12\n",
    "    forecast['SE_h'] = se * np.sqrt(forecast['h'])\n",
    "    forecast['CI-lo'] = forecast['MSTL'] - z_score * forecast['SE_h']\n",
    "    forecast['CI-hi'] = forecast['MSTL'] + z_score * forecast['SE_h']\n",
    "    forecast.drop(columns=['h'], inplace=True)\n",
    "    if 'y' in forecast.columns:\n",
    "        print('Coverage:', round(sum([1 for y, lo, hi in zip(\n",
    "            forecast['y'], forecast['CI-lo'], forecast['CI-hi']) if lo <= y <= hi]) / len(forecast), 2))\n",
    "    return forecast\n",
    "\n",
    "\n",
    "prediction_with_ci = create_ci_95(ida1_prediction_copy, train_ida1)\n",
    "prediction_with_ci[-48*3:].plot('ds', ['y', 'CI-hi', 'CI-lo', 'MSTL'])\n",
    "plt.show()"
   ]
  },
  {
   "cell_type": "code",
   "execution_count": null,
   "metadata": {},
   "outputs": [],
   "source": [
    "plt.plot(prediction_with_ci['ds'],\n",
    "         prediction_with_ci['CI-hi'] - prediction_with_ci['CI-lo'])\n",
    "plt.xticks(rotation=45)\n",
    "plt.show()"
   ]
  },
  {
   "cell_type": "code",
   "execution_count": null,
   "metadata": {},
   "outputs": [],
   "source": [
    "def monte_carlo(df, N=1):\n",
    "    df = df.copy()\n",
    "    '''Generates three scenarios-high, middle and low- based on the CI'''\n",
    "    scenario_high = np.random.uniform(df['MSTL'], df['CI-hi'], len(df))\n",
    "    scenario_low = np.random.uniform(df['CI-lo'], df['MSTL'], len(df))\n",
    "    # scenario_high = pd.Series(scenario_high).rolling(window=2).mean().values\n",
    "    # scenario_low = pd.Series(scenario_low).rolling(window=2).mean().values\n",
    "    df['S_high'] = scenario_high\n",
    "    df['S_low'] = scenario_low\n",
    "\n",
    "    for n in range(N):\n",
    "        scenario_middle = np.random.uniform(df['CI-lo'], df['CI-hi'], len(df))\n",
    "        scenario_middle = pd.Series(\n",
    "            scenario_middle).rolling(window=2).mean().values\n",
    "        df[f'S_middle_{n}'] = scenario_middle\n",
    "    return df\n",
    "\n",
    "\n",
    "cv_scenarios = monte_carlo(prediction_with_ci, 10)\n",
    "cv_scenarios.plot('ds', [*cv_scenarios.filter(like='S').columns], legend=False)\n",
    "cv_scenarios.plot('ds', 'y', legend=True)\n",
    "plt.legend()\n",
    "plt.show()"
   ]
  },
  {
   "cell_type": "code",
   "execution_count": null,
   "metadata": {},
   "outputs": [],
   "source": []
  },
  {
   "cell_type": "code",
   "execution_count": null,
   "metadata": {},
   "outputs": [],
   "source": [
    "# UIT DE DATA SCENARIOS SAMPLEN - ZONDER CI\n",
    "grouped_train_ida1 = train_ida1.groupby(\n",
    "    [train_ida1['ds'].dt.hour, train_ida1['ds'].dt.minute])['y'].describe()\n",
    "grouped_train_ida1.head(4)"
   ]
  },
  {
   "cell_type": "code",
   "execution_count": null,
   "metadata": {},
   "outputs": [],
   "source": []
  },
  {
   "cell_type": "markdown",
   "metadata": {},
   "source": [
    "#### Test on predicted day\n"
   ]
  },
  {
   "cell_type": "code",
   "execution_count": null,
   "metadata": {},
   "outputs": [],
   "source": []
  },
  {
   "cell_type": "code",
   "execution_count": null,
   "metadata": {},
   "outputs": [],
   "source": []
  },
  {
   "cell_type": "code",
   "execution_count": null,
   "metadata": {},
   "outputs": [],
   "source": [
    "prediction_exo_ci = create_ci_95(prediction_exo, train_exo)\n",
    "prediction_exo_scenarios = monte_carlo(prediction_exo_ci, 3)\n",
    "prediction_exo_scenarios.drop(\n",
    "    columns=['unique_id']).plot('ds')"
   ]
  },
  {
   "cell_type": "code",
   "execution_count": null,
   "metadata": {},
   "outputs": [],
   "source": [
    "prediction_exo_scenarios.columns"
   ]
  },
  {
   "cell_type": "code",
   "execution_count": null,
   "metadata": {},
   "outputs": [],
   "source": [
    "prediction_exo_scenarios['SE_h'].values"
   ]
  },
  {
   "cell_type": "code",
   "execution_count": null,
   "metadata": {},
   "outputs": [],
   "source": [
    "# prediction_exo_scenarios.fillna(method='bfill', inplace=True)\n",
    "# prediction_exo_scenarios.drop(columns=['unique_id']).to_excel(\n",
    "#     'ida_predictions.xlsx', index=False)"
   ]
  },
  {
   "cell_type": "markdown",
   "metadata": {},
   "source": [
    "### DA\n"
   ]
  },
  {
   "cell_type": "code",
   "execution_count": null,
   "metadata": {},
   "outputs": [],
   "source": [
    "day = 48\n",
    "da_mstl = create_MSTL(seasons=[day, day*2, day*5, day*6])\n",
    "da_mstl.fit(train_da)\n",
    "da_mstl.fitted_[0, 0].model_.tail(24 * 28).plot(subplots=True, grid=True)\n",
    "plt.tight_layout()\n",
    "plt.show()"
   ]
  },
  {
   "cell_type": "code",
   "execution_count": null,
   "metadata": {},
   "outputs": [],
   "source": [
    "predictions_da = da_mstl.predict(h=day)\n",
    "plt.plot(test_da['ds'].head(day), test_da['y'].head(day))\n",
    "plt.plot(predictions_da['ds'], predictions_da['MSTL'])\n",
    "mae = np.mean(\n",
    "    np.abs(predictions_da['MSTL'].values - test_da['y'].head(day).values))\n",
    "print(\"MAE:\", mae)\n",
    "plt.show()"
   ]
  },
  {
   "cell_type": "code",
   "execution_count": null,
   "metadata": {},
   "outputs": [],
   "source": [
    "predictions_da = predictions_da.merge(test_da[['ds', 'y']].head(day), on='ds')\n",
    "da_std_erros = train_da['y'].std() / np.sqrt(len(predictions_da))\n",
    "predictions_da['h'] = predictions_da.groupby(\n",
    "    predictions_da['ds'].dt.date).cumcount() + 1\n",
    "predictions_da['SE_h'] = da_std_erros * np.sqrt(predictions_da['h'])\n",
    "print(predictions_da.columns)\n",
    "# predictions_da.to_excel('../Data/da_prediction.xlsx', index=False)"
   ]
  },
  {
   "cell_type": "code",
   "execution_count": null,
   "metadata": {},
   "outputs": [],
   "source": []
  },
  {
   "cell_type": "code",
   "execution_count": null,
   "metadata": {},
   "outputs": [],
   "source": [
    "train_ida2_filtered = train_ida2.copy()\n",
    "train_ida2_filtered.dropna(inplace=True)\n",
    "train_ida2_filtered.reset_index(drop=True, inplace=True)\n",
    "train_ida2_filtered"
   ]
  },
  {
   "cell_type": "code",
   "execution_count": null,
   "metadata": {},
   "outputs": [],
   "source": [
    "trading_length = len(train_ida2_filtered.groupby(\n",
    "    train_ida2_filtered.ds.dt.hour)) * 2"
   ]
  },
  {
   "cell_type": "code",
   "execution_count": null,
   "metadata": {},
   "outputs": [],
   "source": [
    "model_ida2 = create_MSTL(\n",
    "    seasons=[trading_length, 2*trading_length, 5*trading_length, 6*trading_length])\n",
    "forecast_ida2 = model_ida2.forecast(df=train_ida2_filtered, h=trading_length)\n",
    "forecast_ida2.reset_index(drop=True, inplace=True)\n",
    "forecast_ida2['ds'] = test_ida2.dropna().head(\n",
    "    trading_length)['ds'].reset_index(drop=True)"
   ]
  },
  {
   "cell_type": "code",
   "execution_count": null,
   "metadata": {},
   "outputs": [],
   "source": [
    "# crossvalidation_df = model_ida2.cross_validation(\n",
    "#     df=train_ida2_filtered, h=48, step_size=48, n_windows=30)"
   ]
  },
  {
   "cell_type": "code",
   "execution_count": null,
   "metadata": {},
   "outputs": [],
   "source": [
    "# nan_mask = train_ida2.groupby('ds')['y'].apply(lambda x: x.isna().all())\n",
    "# valid_times = nan_mask[nan_mask == False].index\n",
    "# crossvalidation_df = crossvalidation_df[crossvalidation_df['ds'].isin(\n",
    "#     valid_times)]\n",
    "# crossvalidation_df['error'] = crossvalidation_df['y'] - \\\n",
    "#     crossvalidation_df['MSTL']\n",
    "# crossvalidation_df.to_excel('../Data/cross_val_30_days_ida2.xlsx', index=False)"
   ]
  },
  {
   "cell_type": "code",
   "execution_count": null,
   "metadata": {},
   "outputs": [],
   "source": []
  },
  {
   "cell_type": "code",
   "execution_count": null,
   "metadata": {},
   "outputs": [],
   "source": [
    "import numpy as np\n",
    "import pandas as pd\n",
    "\n",
    "\n",
    "def create_scenarios_with_trend(cross_val, predictions, block_size=6, num_scenarios=3):\n",
    "    # Group the cross_val by time of day to capture the error trends over time\n",
    "    cross_val['hour'] = cross_val['ds'].dt.hour\n",
    "    cross_val['minute'] = cross_val['ds'].dt.minute\n",
    "\n",
    "    # Group errors by time of day (hour and minute) and get mean/std for each period\n",
    "    error_trends = cross_val.groupby([cross_val['hour'], cross_val['minute']])[\n",
    "        'error'].agg(['mean', 'std']).reset_index()\n",
    "\n",
    "    scenarios = []\n",
    "\n",
    "    # Ensure that predictions DataFrame has a datetime 'ds' column\n",
    "    for _ in range(num_scenarios):\n",
    "        sampled_errors = []\n",
    "\n",
    "        # Sample blocks of errors for each time of day, respecting the upward trend\n",
    "        for i in range(len(predictions) // block_size):\n",
    "            # Get the corresponding datetime (ds) for the current block\n",
    "            # Ensure 'ds' is a datetime column\n",
    "            timestamp = predictions['ds'].iloc[i * block_size]\n",
    "            hour = timestamp.hour\n",
    "            minute = timestamp.minute\n",
    "\n",
    "            # Find the corresponding mean and std for the current block's time\n",
    "            error_info = error_trends[(error_trends['hour'] == hour) & (\n",
    "                error_trends['minute'] == minute)]\n",
    "            if not error_info.empty:\n",
    "                mean = error_info['mean'].values[0]\n",
    "                std = error_info['std'].values[0]\n",
    "\n",
    "                # Sample errors for the block based on the time-specific mean and std\n",
    "                block_errors = np.random.normal(mean, std, block_size)\n",
    "                sampled_errors.append(block_errors)\n",
    "\n",
    "        # Flatten the sampled errors into a single array\n",
    "        sampled_errors = np.hstack(sampled_errors)[:len(predictions)]\n",
    "\n",
    "        # Apply a rolling mean to smooth the scenario\n",
    "        scenario = predictions['MSTL'].values + sampled_errors\n",
    "        scenario = pd.Series(scenario).rolling(\n",
    "            window=3).mean().fillna(method='bfill').values\n",
    "\n",
    "        scenarios.append(scenario)\n",
    "\n",
    "    return np.array(scenarios)\n",
    "\n",
    "\n",
    "# Example usage\n",
    "scenarios = create_scenarios_with_trend(crossvalidation_df, ida1_prediction)\n",
    "plt.plot(scenarios.T)\n",
    "plt.plot(ida1_prediction['y'], label='True')\n",
    "plt.legend()\n",
    "plt.show()"
   ]
  },
  {
   "cell_type": "markdown",
   "metadata": {},
   "source": [
    "## GROUP BY BLOCKS PER DAY AND SAMPLE BLOCKS\n"
   ]
  },
  {
   "cell_type": "code",
   "execution_count": null,
   "metadata": {},
   "outputs": [],
   "source": [
    "def split_and_group_errors_by_block(cross_val, block_size=3):\n",
    "    cross_val['ds'] = pd.to_datetime(cross_val['ds'])\n",
    "    cross_val['date'] = cross_val['ds'].dt.date\n",
    "\n",
    "    blocks_by_day = []\n",
    "    grouped = cross_val.groupby('date')\n",
    "\n",
    "    for _, group in grouped:\n",
    "        errors = group['error'].values\n",
    "        num_blocks = len(errors) // block_size\n",
    "        blocks = [errors[i * block_size:(i + 1) * block_size]\n",
    "                  for i in range(num_blocks)]\n",
    "        blocks_by_day.append(blocks)\n",
    "\n",
    "    # Now group corresponding blocks across days together\n",
    "    grouped_blocks = list(zip(*blocks_by_day))\n",
    "\n",
    "    return grouped_blocks\n",
    "\n",
    "\n",
    "# Set block size and apply the function\n",
    "block_size = 6\n",
    "grouped_blocks = split_and_group_errors_by_block(\n",
    "    crossvalidation_df, block_size)"
   ]
  },
  {
   "cell_type": "code",
   "execution_count": null,
   "metadata": {},
   "outputs": [],
   "source": [
    "import random\n",
    "\n",
    "num_scenarios = 1\n",
    "scenarios = []\n",
    "for i in range(num_scenarios):\n",
    "    scenario = []\n",
    "    for block_index, block in enumerate(grouped_blocks):\n",
    "        correlated_block = random.choice(block)\n",
    "        ida1_prediction_block = ida1_prediction['MSTL'].values[block_index * block_size:(\n",
    "            block_index + 1) * block_size]\n",
    "        scenario.extend(ida1_prediction_block + correlated_block)\n",
    "    scenarios.append(scenario)\n",
    "\n",
    "scenarios = np.array(scenarios)\n",
    "plt.plot(scenarios.T)\n",
    "plt.plot(ida1_prediction['y'])\n",
    "plt.show()"
   ]
  },
  {
   "cell_type": "code",
   "execution_count": null,
   "metadata": {},
   "outputs": [],
   "source": [
    "def generate_scenarios(cross_val, ida1_prediction, block_size=6, num_scenarios=1):\n",
    "    cross_val['ds'] = pd.to_datetime(cross_val['ds'])\n",
    "    cross_val['date'] = cross_val['ds'].dt.date\n",
    "    blocks_by_day = [\n",
    "        group['error'].values.reshape(-1, block_size) for _, group in cross_val.groupby('date')]\n",
    "    grouped_blocks = list(zip(*blocks_by_day))\n",
    "\n",
    "    scenarios = []\n",
    "    for _ in range(num_scenarios):\n",
    "        scenario = []\n",
    "        for block_index, block in enumerate(grouped_blocks):\n",
    "            correlated_block = random.choice(block)\n",
    "            ida1_prediction_block = ida1_prediction[block_index *\n",
    "                                                    block_size:(block_index + 1) * block_size]\n",
    "            scenario.extend(ida1_prediction_block + correlated_block)\n",
    "        scenarios.append(scenario)\n",
    "\n",
    "    scenarios = np.array(scenarios)\n",
    "    return scenarios\n",
    "\n",
    "\n",
    "generate_scenarios(crossvalidation_df, ida1_prediction['MSTL'].values)"
   ]
  },
  {
   "cell_type": "code",
   "execution_count": null,
   "metadata": {},
   "outputs": [],
   "source": []
  },
  {
   "cell_type": "code",
   "execution_count": null,
   "metadata": {},
   "outputs": [],
   "source": []
  },
  {
   "cell_type": "code",
   "execution_count": null,
   "metadata": {},
   "outputs": [],
   "source": [
    "sample_date = pd.to_datetime(\"2023-3-10\").date()\n",
    "sample_da = da[da['ds'].dt.date == sample_date]\n",
    "sample_ida1 = ida1[ida1['ds'].dt.date ==\n",
    "                   sample_date]\n",
    "sample_ida2 = ida2[ida2['ds'].dt.date ==\n",
    "                   sample_date]\n",
    "df = sample_da.merge(sample_ida1, on='ds', suffixes=('_1', '_2')).rename(\n",
    "    {'y_1': 'Auction 1', 'y_2': 'Auction 2'}, axis=1)\n",
    "\n",
    "df['hour'] = df['ds'].dt.strftime('%H:%M')\n",
    "# df.plot('hour', ['Auction 1', 'Auction 2'])\n",
    "df.plot('hour', ['Auction 1'])\n",
    "plt.ylim(df[['Auction 1', 'Auction 2']].min().min(),\n",
    "         df[['Auction 1', 'Auction 2']].max().max())\n",
    "plt.xlabel('Delivery Time')\n",
    "plt.xticks([i for i in range(0, len(df) + 1, 8)],\n",
    "           list(df['hour'][::8]) + ['00:00'])\n",
    "plt.ylabel('Price (€/MWh)')\n",
    "plt.legend()\n",
    "plt.show()"
   ]
  },
  {
   "cell_type": "code",
   "execution_count": null,
   "metadata": {},
   "outputs": [],
   "source": []
  }
 ],
 "metadata": {
  "kernelspec": {
   "display_name": "scriptie",
   "language": "python",
   "name": "python3"
  },
  "language_info": {
   "codemirror_mode": {
    "name": "ipython",
    "version": 3
   },
   "file_extension": ".py",
   "mimetype": "text/x-python",
   "name": "python",
   "nbconvert_exporter": "python",
   "pygments_lexer": "ipython3",
   "version": "3.11.9"
  }
 },
 "nbformat": 4,
 "nbformat_minor": 2
}
